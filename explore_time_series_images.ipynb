{
 "cells": [
  {
   "cell_type": "markdown",
   "metadata": {},
   "source": [
    "# Videos: time-series images \n",
    "\n",
    "Videos are collections of images (*spatial data types*) across temporal scale (*time-series*). Here we will explore videos of chicks that were turned into a single directory, stored in **imagedata**, of images that are ordered (and numbered) based on time. In this case, the first image represents the beginning of the video. "
   ]
  },
  {
   "cell_type": "code",
   "execution_count": 1,
   "metadata": {
    "collapsed": true
   },
   "outputs": [],
   "source": [
    "## Extract 1 frame-per-second, maintain jpeg quality, and save all images in a single directory \n",
    "\n",
    "#! ffmpeg -i videodata/13B35A/0801_0841/00003.MTS -vf fps=1 -q:v 1 imagedata/13B35A/0801_0841/00003/img_%05d.jpg "
   ]
  },
  {
   "cell_type": "code",
   "execution_count": null,
   "metadata": {
    "collapsed": true
   },
   "outputs": [],
   "source": []
  }
 ],
 "metadata": {
  "kernelspec": {
   "display_name": "Python 3",
   "language": "python",
   "name": "python3"
  },
  "language_info": {
   "codemirror_mode": {
    "name": "ipython",
    "version": 3
   },
   "file_extension": ".py",
   "mimetype": "text/x-python",
   "name": "python",
   "nbconvert_exporter": "python",
   "pygments_lexer": "ipython3",
   "version": "3.5.2"
  }
 },
 "nbformat": 4,
 "nbformat_minor": 2
}
