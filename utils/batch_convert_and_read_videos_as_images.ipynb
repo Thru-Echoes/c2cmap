{
 "cells": [
  {
   "cell_type": "code",
   "execution_count": 23,
   "metadata": {},
   "outputs": [
    {
     "data": {
      "text/plain": [
       "['ffmpeg',\n",
       " '-i',\n",
       " '../videodata/13B35A/0801_0841/00006.MTS',\n",
       " '-vf',\n",
       " 'fps=1',\n",
       " '-q:v',\n",
       " '1',\n",
       " '../imagedata/13B35A/0801_0841/00006/frame_%09d.jpg']"
      ]
     },
     "execution_count": 23,
     "metadata": {},
     "output_type": "execute_result"
    }
   ],
   "source": [
    "## input_path \n",
    "## output_path \n",
    "## frames per second sampled \n",
    "\n",
    "import os\n",
    "import subprocess\n",
    "\n",
    "def get_video_to_frames_shell(input_path, output_path, fps=30):\n",
    "    ##return \"ffmpeg -i ../videodata/\" + input_path + \" -vf fps=\" + str(fps) + \" -q:v 1 ../imagedata/\" + output_path + \"/frame_%09d.jpg\"\n",
    "    return [\"ffmpeg\",\n",
    "           \"-i\",\n",
    "           \"videodata/\" + input_path,\n",
    "           \"-vf\",\n",
    "           \"fps=\" + str(fps),\n",
    "           \"-q:v\",\n",
    "           \"1\",\n",
    "           \"imagedata/\" + output_path + \"/frame_%09d.jpg\"]\n",
    "\n",
    "\n",
    "## Example use: sample 1 frame every 10 seconds from nest13B35A, on 01-August, video 00006.MTS \n",
    "#shell_00006 = get_video_to_frames_shell(\"13B35A/0801_0841/00006.MTS\", \"13B35A/0801_0841/00006\", 1)\n",
    "#subprocess.run(shell_00006)"
   ]
  },
  {
   "cell_type": "code",
   "execution_count": 26,
   "metadata": {},
   "outputs": [],
   "source": [
    "#subprocess.run([\"ls\", \"-al\"])\n",
    "#subprocess.run(shell_00006)"
   ]
  },
  {
   "cell_type": "code",
   "execution_count": null,
   "metadata": {
    "collapsed": true
   },
   "outputs": [],
   "source": []
  }
 ],
 "metadata": {
  "kernelspec": {
   "display_name": "Python 3",
   "language": "python",
   "name": "python3"
  },
  "language_info": {
   "codemirror_mode": {
    "name": "ipython",
    "version": 3
   },
   "file_extension": ".py",
   "mimetype": "text/x-python",
   "name": "python",
   "nbconvert_exporter": "python",
   "pygments_lexer": "ipython3",
   "version": "3.5.2"
  }
 },
 "nbformat": 4,
 "nbformat_minor": 2
}
