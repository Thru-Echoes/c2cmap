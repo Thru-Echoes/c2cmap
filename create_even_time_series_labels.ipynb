{
 "cells": [
  {
   "cell_type": "markdown",
   "metadata": {},
   "source": [
    "# Create Evenly-Spaced Time Series Labels \n",
    "\n",
    "Field observation data will be used as labels (*i.e. y column in the data*) for training image processing algorithms to learn the convoluted relationships between images (*i.e. x columns in the data*) and the chick behavior events of interest. Images, including their position or index as frames in a single video, are used as the input data with the assumption that there are hidden or convoluted relationships to the target variables (**behavior events that are within the y column**). Note: having the target (y) column turns an unsupervised problem into a supervised problem in machine learning. \n",
    "\n",
    "The field observation data is not evenly-spaced temporally. The images, however, are evenly-spaced since they are frames of videos that are necessarily homogeneous. This notebook will import the field data (*.csv files*), extract the time at which chick behaviors of interest occurred, and create a new time-series data / variable that is a combination of generated time steps that are blank with the field observation events. "
   ]
  },
  {
   "cell_type": "code",
   "execution_count": 1,
   "metadata": {
    "collapsed": true
   },
   "outputs": [],
   "source": [
    "## Here we go! \n",
    "\n",
    "import sys \n",
    "import os \n",
    "import pandas as pd \n",
    "import numpy as np\n",
    "import matplotlib.pyplot as pyplot\n",
    "import datetime\n",
    "\n",
    "%matplotlib inline "
   ]
  },
  {
   "cell_type": "markdown",
   "metadata": {
    "collapsed": true
   },
   "source": [
    "### Step 1: Read in raw field data "
   ]
  },
  {
   "cell_type": "code",
   "execution_count": 15,
   "metadata": {},
   "outputs": [
    {
     "data": {
      "text/html": [
       "<div>\n",
       "<style>\n",
       "    .dataframe thead tr:only-child th {\n",
       "        text-align: right;\n",
       "    }\n",
       "\n",
       "    .dataframe thead th {\n",
       "        text-align: left;\n",
       "    }\n",
       "\n",
       "    .dataframe tbody tr th {\n",
       "        vertical-align: top;\n",
       "    }\n",
       "</style>\n",
       "<table border=\"1\" class=\"dataframe\">\n",
       "  <thead>\n",
       "    <tr style=\"text-align: right;\">\n",
       "      <th></th>\n",
       "      <th>Name</th>\n",
       "      <th>Start</th>\n",
       "      <th>Duration</th>\n",
       "      <th>Time Format</th>\n",
       "      <th>Type</th>\n",
       "      <th>Description</th>\n",
       "    </tr>\n",
       "  </thead>\n",
       "  <tbody>\n",
       "    <tr>\n",
       "      <th>0</th>\n",
       "      <td>13B35A_0726_1240</td>\n",
       "      <td>0:00.000</td>\n",
       "      <td>0:00.000</td>\n",
       "      <td>decimal</td>\n",
       "      <td>Cue</td>\n",
       "      <td>NaN</td>\n",
       "    </tr>\n",
       "    <tr>\n",
       "      <th>1</th>\n",
       "      <td>AP N1N4</td>\n",
       "      <td>1:00.096</td>\n",
       "      <td>0:00.438</td>\n",
       "      <td>decimal</td>\n",
       "      <td>Cue</td>\n",
       "      <td>ON BEAK</td>\n",
       "    </tr>\n",
       "    <tr>\n",
       "      <th>2</th>\n",
       "      <td>AP N1N4</td>\n",
       "      <td>2:06.909</td>\n",
       "      <td>0:00.701</td>\n",
       "      <td>decimal</td>\n",
       "      <td>Cue</td>\n",
       "      <td>NaN</td>\n",
       "    </tr>\n",
       "    <tr>\n",
       "      <th>3</th>\n",
       "      <td>AP N1N3</td>\n",
       "      <td>6:31.457</td>\n",
       "      <td>0:01.467</td>\n",
       "      <td>decimal</td>\n",
       "      <td>Cue</td>\n",
       "      <td>ON BEAK</td>\n",
       "    </tr>\n",
       "    <tr>\n",
       "      <th>4</th>\n",
       "      <td>AP N1N4</td>\n",
       "      <td>6:33.624</td>\n",
       "      <td>0:00.773</td>\n",
       "      <td>decimal</td>\n",
       "      <td>Cue</td>\n",
       "      <td>ON BEAK</td>\n",
       "    </tr>\n",
       "  </tbody>\n",
       "</table>\n",
       "</div>"
      ],
      "text/plain": [
       "               Name     Start  Duration Time Format Type Description\n",
       "0  13B35A_0726_1240  0:00.000  0:00.000     decimal  Cue         NaN\n",
       "1           AP N1N4  1:00.096  0:00.438     decimal  Cue    ON BEAK \n",
       "2           AP N1N4  2:06.909  0:00.701     decimal  Cue         NaN\n",
       "3           AP N1N3  6:31.457  0:01.467     decimal  Cue   ON BEAK  \n",
       "4           AP N1N4  6:33.624  0:00.773     decimal  Cue    ON BEAK "
      ]
     },
     "execution_count": 15,
     "metadata": {},
     "output_type": "execute_result"
    }
   ],
   "source": [
    "## Explore CSV of single day data (July 26)\n",
    "\n",
    "nest13B35A_0726 = pd.read_table(\"csvdata/nest13B35A/13B35A_0726_1240.csv\") \n",
    "nest13B35A_0726.head()"
   ]
  },
  {
   "cell_type": "code",
   "execution_count": 16,
   "metadata": {},
   "outputs": [],
   "source": [
    "## Create a dataframe \n",
    "\n",
    "#nest_df[\"Duration_in_sec\"] = pd.to_datetime(nest_df[\"Duration\"])\n",
    "#nest_df[\"Duration_in_sec\"].dt.second\n",
    "#nest_df[\"Milli\"] = nest_df.index.second\n",
    "\n",
    "def get_nest_string(nest_id, nest_day):\n",
    "    return \"csvdata/\" + nest_id + \"/\" + nest_day + \".csv\"\n",
    "\n",
    "def create_df_with_duration_as_sec(nest_raw):\n",
    "    nest_df = pd.DataFrame(nest_raw, \n",
    "                           columns = [\"Name\", \"Start\", \"Duration\", \"Time_Format\", \"Type\", \"Description\"])\n",
    "    del nest_df[\"Time_Format\"]                   ## Remove time format column\n",
    "    nest_df.set_index(\"Start\", inplace = True)   ## Make column \"Start\" index of time series data\n",
    "    nest_df[\"Duration_in_sec\"] = pd.to_datetime(nest_df[\"Duration\"])\n",
    "    return nest_df\n",
    "\n",
    "nest_raw = pd.read_table(get_nest_string(\"nest13B35A\", \"13B35A_0726_1240\"))\n",
    "nest_mod = create_df_with_duration_as_sec(nest_raw)"
   ]
  },
  {
   "cell_type": "code",
   "execution_count": 36,
   "metadata": {},
   "outputs": [
    {
     "name": "stdout",
     "output_type": "stream",
     "text": [
      "Nest Duration min: 0:00.000 \n",
      "Nest Duration max:  9:16.643\n"
     ]
    }
   ],
   "source": [
    "## See distribution of \"Duration\" column \n",
    "\n",
    "nest_min = nest_mod[\"Duration\"].min()\n",
    "nest_max = nest_mod[\"Duration\"].max()\n",
    "\n",
    "print(\"Nest Duration min:\", nest_min, \"\\nNest Duration max: \", nest_max)            "
   ]
  },
  {
   "cell_type": "code",
   "execution_count": 54,
   "metadata": {},
   "outputs": [
    {
     "data": {
      "text/plain": [
       "Start\n",
       "0:00.000              00:00:00\n",
       "1:00.096       00:00:00.438000\n",
       "2:06.909       00:00:00.701000\n",
       "6:31.457       00:00:01.467000\n",
       "6:33.624       00:00:00.773000\n",
       "6:58.795       00:00:01.853000\n",
       "7:03.140       00:00:07.564000\n",
       "11:34.386      00:00:00.195000\n",
       "13:20.027      00:00:00.427000\n",
       "17:10.425      00:02:41.244000\n",
       "21:09.881      00:00:01.450000\n",
       "23:59.449      00:00:00.833000\n",
       "24:05.854      00:00:01.862000\n",
       "24:10.825      00:00:11.253000\n",
       "24:27.889      00:00:00.988000\n",
       "24:41.320      00:00:04.322000\n",
       "24:47.875      00:00:01.655000\n",
       "24:56.962      00:00:01.080000\n",
       "25:11.142      00:00:03.194000\n",
       "25:16.728      00:00:01.402000\n",
       "25:18.922      00:00:02.652000\n",
       "25:22.180      00:00:02.843000\n",
       "25:29.737      00:00:04.305000\n",
       "26:01.253      00:00:29.337000\n",
       "34:06.454      00:00:26.800000\n",
       "41:09.338      00:00:00.318000\n",
       "45:39.895      00:00:01.941000\n",
       "45:43.073      00:00:01.979000\n",
       "45:53.000      00:00:00.343000\n",
       "53:47.469      00:00:00.440000\n",
       "53:56.036      00:00:02.212000\n",
       "54:00.090      00:00:01.039000\n",
       "54:03.911      00:00:01.627000\n",
       "54:38.379      00:00:00.388000\n",
       "54:43.597      00:00:00.595000\n",
       "59:22.337      00:00:01.064000\n",
       "59:41.952      00:00:00.799000\n",
       "1:00:05.845    00:00:03.214000\n",
       "1:00:11.881    00:00:03.735000\n",
       "1:00:16.210    00:00:00.586000\n",
       "1:00:22.984    00:00:04.462000\n",
       "1:00:32.216    00:00:01.822000\n",
       "1:00:54.684    00:00:41.063000\n",
       "1:02:47.507    00:00:00.318000\n",
       "1:03:15.900    00:00:00.398000\n",
       "1:03:17.472    00:00:00.211000\n",
       "1:03:19.034    00:00:00.406000\n",
       "1:03:20.851    00:00:00.251000\n",
       "1:03:41.893    00:00:00.722000\n",
       "1:03:43.703    00:00:01.044000\n",
       "1:03:45.127    00:00:03.045000\n",
       "1:03:51.595    00:00:00.498000\n",
       "1:03:55.940    00:00:02.212000\n",
       "1:04:01.568    00:00:03.885000\n",
       "1:04:10.110    00:00:02.115000\n",
       "1:04:19.200    00:00:01.323000\n",
       "1:04:22.223    00:00:04.436000\n",
       "1:04:24.940    00:00:02.735000\n",
       "1:04:27.752    00:09:16.643000\n",
       "1:13:44.410    00:03:15.994000\n",
       "Name: Duration, dtype: object"
      ]
     },
     "execution_count": 54,
     "metadata": {},
     "output_type": "execute_result"
    }
   ],
   "source": [
    "pd.to_datetime(nest_mod[\"Duration\"], format = \"%M:%S.%f\").dt.time"
   ]
  },
  {
   "cell_type": "markdown",
   "metadata": {},
   "source": [
    "At **1:00.096** (*Start column*) there is a behavior (*Description column*) that lasts **0:00.438** (*Duration column*). That is almost half of a second. Videos are either *30 or 60 frames per second*. That implies that we can, at the worst, capture / quantify behaviors that occur for at least 1/30 of a second. However, processing all of these frames per second will be computationally expensive for videos that are several minutes long. For example, a 10 min video with 30 frames per second will become a time-series of **18,000 images. And two weeks of daily 10 min videos results in 252,000 images**. \n",
    "\n",
    "Note: There is a chance this will be necessary in the future. But for now, especially for exploring the data and initial probing, I will downsample the number of images. \n",
    "\n",
    "I will need to know the shortest duration of a behavior and round the *start column* in order to downsample the number of images and still create an evenly-spaced time-series file to be used as our model's target variable. I need to confirm that rounding the *start column* will not change the relative position of the chick behavior events recorded in the *description column*. Also, I need to add an annotated *y observation* for every time unit that *duration* lasted for. For example, if I downsample to **10 frames per second**, then a behavior that lasted **0.7 seconds** would have *7 observations*. \n",
    "\n",
    "### Step 2: Determine time unit \n",
    "\n",
    "Find the minimal duration to determine what the *start and duration columns* should be round to. "
   ]
  },
  {
   "cell_type": "code",
   "execution_count": 32,
   "metadata": {},
   "outputs": [
    {
     "name": "stdout",
     "output_type": "stream",
     "text": [
      "Nest Duration in sec min:  2019-04-29 00:00:11 \n",
      "Nest Duration in sec max:  2019-04-29 09:16:38\n"
     ]
    }
   ],
   "source": [
    "## Remove 0th row because it is an artifact of the data collection method \n",
    "\n",
    "def get_min_duration(pd_series):\n",
    "    return pd_series.iloc[1:].min()\n",
    "\n",
    "def get_max_duration(pd_series):\n",
    "    return pd_series.iloc[1:].max()\n",
    "\n",
    "def get_time_unit(duration_min):\n",
    "    return np.ceil(duration_min)\n",
    "\n",
    "duration_sec = nest_mod[\"Duration_in_sec\"]\n",
    "duration_min = get_min_duration(duration_sec)\n",
    "duration_max = get_max_duration(duration_sec)\n",
    "\n",
    "print(\"Nest Duration in sec min: \", duration_min, \"\\nNest Duration in sec max: \", duration_max)\n",
    "\n",
    "\n",
    "##get_time_unit(duration_min)\n",
    "#get_time_unit(get_min_duration(duration_raw))"
   ]
  },
  {
   "cell_type": "code",
   "execution_count": 14,
   "metadata": {},
   "outputs": [
    {
     "data": {
      "text/plain": [
       "Start\n",
       "0:00.000        0\n",
       "1:00.096        0\n",
       "2:06.909        0\n",
       "6:31.457        1\n",
       "6:33.624        0\n",
       "6:58.795        1\n",
       "7:03.140        7\n",
       "11:34.386       0\n",
       "13:20.027       0\n",
       "17:10.425      41\n",
       "21:09.881       1\n",
       "23:59.449       0\n",
       "24:05.854       1\n",
       "24:10.825      11\n",
       "24:27.889       0\n",
       "24:41.320       4\n",
       "24:47.875       1\n",
       "24:56.962       1\n",
       "25:11.142       3\n",
       "25:16.728       1\n",
       "25:18.922       2\n",
       "25:22.180       2\n",
       "25:29.737       4\n",
       "26:01.253      29\n",
       "34:06.454      26\n",
       "41:09.338       0\n",
       "45:39.895       1\n",
       "45:43.073       1\n",
       "45:53.000       0\n",
       "53:47.469       0\n",
       "               ..\n",
       "54:38.379       0\n",
       "54:43.597       0\n",
       "59:22.337       1\n",
       "59:41.952       0\n",
       "1:00:05.845     3\n",
       "1:00:11.881     3\n",
       "1:00:16.210     0\n",
       "1:00:22.984     4\n",
       "1:00:32.216     1\n",
       "1:00:54.684    41\n",
       "1:02:47.507     0\n",
       "1:03:15.900     0\n",
       "1:03:17.472     0\n",
       "1:03:19.034     0\n",
       "1:03:20.851     0\n",
       "1:03:41.893     0\n",
       "1:03:43.703     1\n",
       "1:03:45.127     3\n",
       "1:03:51.595     0\n",
       "1:03:55.940     2\n",
       "1:04:01.568     3\n",
       "1:04:10.110     2\n",
       "1:04:19.200     1\n",
       "1:04:22.223     4\n",
       "1:04:24.940     2\n",
       "1:04:27.752    16\n",
       "1:13:44.410    15\n",
       "1:29:17.378     1\n",
       "1:29:19.670     2\n",
       "1:30:00.000     4\n",
       "Name: Duration_in_sec, Length: 63, dtype: int64"
      ]
     },
     "execution_count": 14,
     "metadata": {},
     "output_type": "execute_result"
    }
   ],
   "source": [
    "duration_raw.dt.minute  "
   ]
  },
  {
   "cell_type": "markdown",
   "metadata": {},
   "source": [
    "#### The shortest recorded behavior lasted just under 2/10 of a second \n",
    "\n",
    "I will assume I am going to use **10 frames per second**. Thus, all durations should be floored (rounded down) to the nearest **0:00.1** decimal point in time that is above its current time unit. \n",
    "\n",
    "Example: \n",
    "\n",
    "*0:00.195* will be rounded based on the calculation **round(0:00.195 + 0:00.1) = 0:00.2**. This behavior is, thus, being used in the target variable as *2 observations of the same chick behavior*. \n",
    "\n",
    "And *0:00.402* would be rounded like so, **round(0:00.402 + 0:00.1) = 0:00.5**. And this behavior would be *5 observations of the same chick behavior*. \n",
    "\n",
    "This is a liberal approach to rounding and recording the number of chick behavior. For now, I believe this approach has fewers cons and potential for introducing bias to the computational system than the analogous conservative approach. "
   ]
  },
  {
   "cell_type": "markdown",
   "metadata": {},
   "source": [
    "### Step 3: Floor Start column \n",
    "\n",
    "Round down the *start column* to the nearest time unit.  \n",
    "\n",
    "### Step 4: Round up Duration column\n",
    "\n",
    "The *duration column* should be counted for the entirety of a time unit it was recorded in. "
   ]
  },
  {
   "cell_type": "code",
   "execution_count": null,
   "metadata": {
    "collapsed": true
   },
   "outputs": [],
   "source": []
  }
 ],
 "metadata": {
  "kernelspec": {
   "display_name": "Python 3",
   "language": "python",
   "name": "python3"
  },
  "language_info": {
   "codemirror_mode": {
    "name": "ipython",
    "version": 3
   },
   "file_extension": ".py",
   "mimetype": "text/x-python",
   "name": "python",
   "nbconvert_exporter": "python",
   "pygments_lexer": "ipython3",
   "version": "3.5.2"
  }
 },
 "nbformat": 4,
 "nbformat_minor": 2
}
