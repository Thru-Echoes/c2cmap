{
 "cells": [
  {
   "cell_type": "markdown",
   "metadata": {},
   "source": [
    "# Create Evenly-Spaced Time Series Labels \n",
    "\n",
    "Field observation data will be used as labels (*i.e. y column in the data*) for training image processing algorithms to learn the convoluted relationships between images (*i.e. x columns in the data*) and the chick behavior events of interest. Images, including their position or index as frames in a single video, are used as the input data with the assumption that there are hidden or convoluted relationships to the target variables (**behavior events that are within the y column**). Note: having the target (y) column turns an unsupervised problem into a supervised problem in machine learning. \n",
    "\n",
    "The field observation data is not evenly-spaced temporally. The images, however, are evenly-spaced since they are frames of videos that are necessarily homogeneous. This notebook will import the field data (*.csv files*), extract the time at which chick behaviors of interest occurred, and create a new time-series data / variable that is a combination of generated time steps that are blank with the field observation events. "
   ]
  },
  {
   "cell_type": "code",
   "execution_count": 1,
   "metadata": {
    "collapsed": true
   },
   "outputs": [],
   "source": [
    "## Here we go! \n",
    "\n",
    "import sys \n",
    "import os \n",
    "import pandas as pd \n",
    "import numpy as np\n"
   ]
  },
  {
   "cell_type": "markdown",
   "metadata": {
    "collapsed": true
   },
   "source": [
    "### Step 1: Read in raw field data "
   ]
  },
  {
   "cell_type": "code",
   "execution_count": 2,
   "metadata": {},
   "outputs": [
    {
     "data": {
      "text/html": [
       "<div>\n",
       "<style>\n",
       "    .dataframe thead tr:only-child th {\n",
       "        text-align: right;\n",
       "    }\n",
       "\n",
       "    .dataframe thead th {\n",
       "        text-align: left;\n",
       "    }\n",
       "\n",
       "    .dataframe tbody tr th {\n",
       "        vertical-align: top;\n",
       "    }\n",
       "</style>\n",
       "<table border=\"1\" class=\"dataframe\">\n",
       "  <thead>\n",
       "    <tr style=\"text-align: right;\">\n",
       "      <th></th>\n",
       "      <th>Name</th>\n",
       "      <th>Start</th>\n",
       "      <th>Duration</th>\n",
       "      <th>Time Format</th>\n",
       "      <th>Type</th>\n",
       "      <th>Description</th>\n",
       "    </tr>\n",
       "  </thead>\n",
       "  <tbody>\n",
       "    <tr>\n",
       "      <th>0</th>\n",
       "      <td>13B35A_0726_1240</td>\n",
       "      <td>0:00.000</td>\n",
       "      <td>0:00.000</td>\n",
       "      <td>decimal</td>\n",
       "      <td>Cue</td>\n",
       "      <td>NaN</td>\n",
       "    </tr>\n",
       "    <tr>\n",
       "      <th>1</th>\n",
       "      <td>AP N1N4</td>\n",
       "      <td>1:00.096</td>\n",
       "      <td>0:00.438</td>\n",
       "      <td>decimal</td>\n",
       "      <td>Cue</td>\n",
       "      <td>ON BEAK</td>\n",
       "    </tr>\n",
       "    <tr>\n",
       "      <th>2</th>\n",
       "      <td>AP N1N4</td>\n",
       "      <td>2:06.909</td>\n",
       "      <td>0:00.701</td>\n",
       "      <td>decimal</td>\n",
       "      <td>Cue</td>\n",
       "      <td>NaN</td>\n",
       "    </tr>\n",
       "    <tr>\n",
       "      <th>3</th>\n",
       "      <td>AP N1N3</td>\n",
       "      <td>6:31.457</td>\n",
       "      <td>0:01.467</td>\n",
       "      <td>decimal</td>\n",
       "      <td>Cue</td>\n",
       "      <td>ON BEAK</td>\n",
       "    </tr>\n",
       "    <tr>\n",
       "      <th>4</th>\n",
       "      <td>AP N1N4</td>\n",
       "      <td>6:33.624</td>\n",
       "      <td>0:00.773</td>\n",
       "      <td>decimal</td>\n",
       "      <td>Cue</td>\n",
       "      <td>ON BEAK</td>\n",
       "    </tr>\n",
       "  </tbody>\n",
       "</table>\n",
       "</div>"
      ],
      "text/plain": [
       "               Name     Start  Duration Time Format Type Description\n",
       "0  13B35A_0726_1240  0:00.000  0:00.000     decimal  Cue         NaN\n",
       "1           AP N1N4  1:00.096  0:00.438     decimal  Cue    ON BEAK \n",
       "2           AP N1N4  2:06.909  0:00.701     decimal  Cue         NaN\n",
       "3           AP N1N3  6:31.457  0:01.467     decimal  Cue   ON BEAK  \n",
       "4           AP N1N4  6:33.624  0:00.773     decimal  Cue    ON BEAK "
      ]
     },
     "execution_count": 2,
     "metadata": {},
     "output_type": "execute_result"
    }
   ],
   "source": [
    "## Explore CSV of single day data (July 26)\n",
    "\n",
    "nest13B35A_0726 = pd.read_table(\"csvdata/nest13B35A/13B35A_0726_1240.csv\") \n",
    "nest13B35A_0726.head()"
   ]
  },
  {
   "cell_type": "markdown",
   "metadata": {},
   "source": [
    "At **1:00.096** (*Start column*) there is a behavior (*Description column*) that lasts **0:00.438** (*Duration column*). That is almost half of a second. Videos are either *30 or 60 frames per second*. That implies that we can, at the worst, capture / quantify behaviors that occur for at least 1/30 of a second. However, processing all of these frames per second will be computationally expensive for videos that are several minutes long. For example, a 10 min video with 30 frames per second will become a time-series of **18,000 images. And two weeks of daily 10 min videos results in 252,000 images**. \n",
    "\n",
    "Note: There is a chance this will be necessary in the future. But for now, especially for exploring the data and initial probing, I will downsample the number of images. \n",
    "\n",
    "I will need to know the shortest duration of a behavior and round the *start column* in order to downsample the number of images and still create an evenly-spaced time-series file to be used as our model's target variable. I need to confirm that rounding the *start column* will not change the relative position of the chick behavior events recorded in the *description column*. Also, I need to add an annotated *y observation* for every time unit that *duration* lasted for. For example, if I downsample to **10 frames per second**, then a behavior that lasted **0.7 seconds** would have *7 observations*. \n",
    "\n",
    "### Step 2: Determine time unit \n",
    "\n",
    "Find the minimal duration to determine what the *start and duration columns* should be round to. "
   ]
  },
  {
   "cell_type": "code",
   "execution_count": 12,
   "metadata": {},
   "outputs": [],
   "source": [
    "## Remove 0th row because it is an artifact of the data collection method \n",
    "\n",
    "duration_raw = nest13B35A_0726[\"Duration\"]\n",
    "duration_mod = duration_raw.iloc[1:]\n",
    "#duration_mod.head()\n",
    "\n",
    "duration_mod.min()\n",
    "\n",
    "def get_min_duration(pd_series):\n",
    "    return pd_series.iloc[1:].min()"
   ]
  },
  {
   "cell_type": "markdown",
   "metadata": {},
   "source": [
    "#### The shortest recorded behavior lasted just under 2/10 of a second \n",
    "\n",
    "I will assume I am going to use **10 frames per second**. Thus, all durations should be floored (rounded down) to the nearest **0:00.1** decimal point in time that is above its current time unit. \n",
    "\n",
    "Example: \n",
    "\n",
    "*0:00.195* will be rounded based on the calculation **round(0:00.195 + 0:00.1) = 0:00.2**. This behavior is, thus, being used in the target variable as *2 observations of the same chick behavior*. \n",
    "\n",
    "And *0:00.402* would be rounded like so, **round(0:00.402 + 0:00.1) = 0:00.5**. And this behavior would be *5 observations of the same chick behavior*. \n",
    "\n",
    "This is a liberal approach to rounding and recording the number of chick behavior. For now, I believe this approach has fewers cons and potential for introducing bias to the computational system than the analogous conservative approach. "
   ]
  },
  {
   "cell_type": "markdown",
   "metadata": {},
   "source": [
    "### Step 3: Floor Start column \n",
    "\n",
    "Round down the *start column* to the nearest time unit.  \n",
    "\n",
    "### Step 4: Round up Duration column\n",
    "\n",
    "The *duration column* should be counted for the entirety of a time unit it was recorded in. "
   ]
  },
  {
   "cell_type": "code",
   "execution_count": null,
   "metadata": {
    "collapsed": true
   },
   "outputs": [],
   "source": []
  }
 ],
 "metadata": {
  "kernelspec": {
   "display_name": "Python 3",
   "language": "python",
   "name": "python3"
  },
  "language_info": {
   "codemirror_mode": {
    "name": "ipython",
    "version": 3
   },
   "file_extension": ".py",
   "mimetype": "text/x-python",
   "name": "python",
   "nbconvert_exporter": "python",
   "pygments_lexer": "ipython3",
   "version": "3.5.2"
  }
 },
 "nbformat": 4,
 "nbformat_minor": 2
}
