{
 "cells": [
  {
   "cell_type": "markdown",
   "metadata": {
    "collapsed": true
   },
   "source": [
    "# OpenCV functionality for videos \n",
    "\n",
    "\n",
    "*OpenCV* is a library for video processing and analysis. \n",
    "\n",
    "**1. motion estimation**\n",
    "\n",
    "**2. background subtraction**\n",
    "\n",
    "**3. object tracking algorithms** \n",
    "\n"
   ]
  },
  {
   "cell_type": "markdown",
   "metadata": {},
   "source": [
    "## Import Requirements 1\n",
    "\n",
    "### Step 1.1: Install OpenCV Python library"
   ]
  },
  {
   "cell_type": "code",
   "execution_count": 6,
   "metadata": {},
   "outputs": [
    {
     "name": "stdout",
     "output_type": "stream",
     "text": [
      "Collecting pip\n",
      "  Downloading https://files.pythonhosted.org/packages/d8/f3/413bab4ff08e1fc4828dfc59996d721917df8e8583ea85385d51125dceff/pip-19.0.3-py2.py3-none-any.whl (1.4MB)\n",
      "\u001b[K    100% |################################| 1.4MB 1.2MB/s eta 0:00:01\n",
      "\u001b[?25hInstalling collected packages: pip\n",
      "  Found existing installation: pip 8.1.1\n",
      "    Not uninstalling pip at /usr/lib/python3/dist-packages, outside environment /usr\n",
      "Successfully installed pip-19.0.3\n",
      "Requirement already satisfied: opencv-python in /usr/local/lib/python3.5/dist-packages (4.1.0.25)\n",
      "Requirement already satisfied: numpy>=1.11.1 in /usr/local/lib/python3.5/dist-packages (from opencv-python) (1.12.1)\n"
     ]
    }
   ],
   "source": [
    "## Execute installation of the OpenCV Python library as a shell commmand \n",
    "\n",
    "import sys\n",
    "\n",
    "## Upgrade pip (optional) \n",
    "! pip3 install --upgrade pip\n",
    "\n",
    "#! pip3 install --prefix {sys.prefix} opencv-python\n",
    "! pip3 install opencv-python"
   ]
  },
  {
   "cell_type": "markdown",
   "metadata": {},
   "source": [
    "### Step 1.2: Check pip3 installed OpenCV\n",
    "\n",
    "**pip3 list** shows all available packages / libraries in this (*Jupyter notebook*) environment "
   ]
  },
  {
   "cell_type": "code",
   "execution_count": 7,
   "metadata": {},
   "outputs": [],
   "source": [
    "#! pip3 list"
   ]
  },
  {
   "cell_type": "markdown",
   "metadata": {},
   "source": [
    "### Step 1.3: Install keras \n",
    "\n",
    "*Keras* is a nerual network library that runs on Tensorflow and makes implementing deep learning models (*i.e. deep neural networks*) \"fast and easy\".\n",
    "\n",
    "**Note: may return to this step and run '! pip3 install keras'"
   ]
  },
  {
   "cell_type": "code",
   "execution_count": 6,
   "metadata": {},
   "outputs": [
    {
     "name": "stdout",
     "output_type": "stream",
     "text": [
      "Collecting keras\n",
      "\u001b[?25l  Downloading https://files.pythonhosted.org/packages/5e/10/aa32dad071ce52b5502266b5c659451cfd6ffcbf14e6c8c4f16c0ff5aaab/Keras-2.2.4-py2.py3-none-any.whl (312kB)\n",
      "\u001b[K    100% |################################| 317kB 28.2MB/s ta 0:00:01\n",
      "\u001b[?25hRequirement already satisfied: numpy>=1.9.1 in /usr/local/lib/python3.5/dist-packages (from keras) (1.12.1)\n",
      "Collecting h5py (from keras)\n",
      "\u001b[?25l  Downloading https://files.pythonhosted.org/packages/4c/77/c4933e12dca0f61bcdafc207c7532e1250b8d12719459fd85132f3daa9fd/h5py-2.9.0-cp35-cp35m-manylinux1_x86_64.whl (2.8MB)\n",
      "\u001b[K    100% |################################| 2.8MB 13.1MB/s ta 0:00:01\n",
      "\u001b[?25hRequirement already satisfied: scipy>=0.14 in /usr/local/lib/python3.5/dist-packages (from keras) (0.19.0)\n",
      "Collecting keras-applications>=1.0.6 (from keras)\n",
      "\u001b[?25l  Downloading https://files.pythonhosted.org/packages/90/85/64c82949765cfb246bbdaf5aca2d55f400f792655927a017710a78445def/Keras_Applications-1.0.7-py2.py3-none-any.whl (51kB)\n",
      "\u001b[K    100% |################################| 61kB 34.9MB/s ta 0:00:01\n",
      "\u001b[?25hCollecting keras-preprocessing>=1.0.5 (from keras)\n",
      "\u001b[?25l  Downloading https://files.pythonhosted.org/packages/c0/bf/0315ef6a9fd3fc2346e85b0ff1f5f83ca17073f2c31ac719ab2e4da0d4a3/Keras_Preprocessing-1.0.9-py2.py3-none-any.whl (59kB)\n",
      "\u001b[K    100% |################################| 61kB 20.2MB/s ta 0:00:01\n",
      "\u001b[?25hRequirement already satisfied: six>=1.9.0 in /usr/local/lib/python3.5/dist-packages (from keras) (1.10.0)\n",
      "Collecting pyyaml (from keras)\n",
      "\u001b[?25l  Downloading https://files.pythonhosted.org/packages/9f/2c/9417b5c774792634834e730932745bc09a7d36754ca00acf1ccd1ac2594d/PyYAML-5.1.tar.gz (274kB)\n",
      "\u001b[K    100% |################################| 276kB 41.9MB/s ta 0:00:01\n",
      "\u001b[?25hBuilding wheels for collected packages: pyyaml\n",
      "  Building wheel for pyyaml (setup.py) ... \u001b[?25ldone\n",
      "\u001b[?25h  Stored in directory: /root/.cache/pip/wheels/ad/56/bc/1522f864feb2a358ea6f1a92b4798d69ac783a28e80567a18b\n",
      "Successfully built pyyaml\n",
      "Installing collected packages: h5py, keras-applications, keras-preprocessing, pyyaml, keras\n",
      "Successfully installed h5py-2.9.0 keras-2.2.4 keras-applications-1.0.7 keras-preprocessing-1.0.9 pyyaml-5.1\n"
     ]
    }
   ],
   "source": [
    "! pip3 install keras"
   ]
  },
  {
   "cell_type": "markdown",
   "metadata": {},
   "source": [
    "### Step 1.4: Import requirements  "
   ]
  },
  {
   "cell_type": "code",
   "execution_count": 8,
   "metadata": {
    "collapsed": true
   },
   "outputs": [],
   "source": [
    "import tensorflow as tf \n",
    "import os \n",
    "import math"
   ]
  },
  {
   "cell_type": "code",
   "execution_count": 15,
   "metadata": {},
   "outputs": [
    {
     "name": "stdout",
     "output_type": "stream",
     "text": [
      "IPython\t\t\t\t  olefile\r\n",
      "Jinja2-2.9.6.dist-info\t\t  olefile-0.44.egg-info\r\n",
      "MarkupSafe-1.0.egg-info\t\t  opencv_python-4.1.0.25.dist-info\r\n",
      "OleFileIO_PL.py\t\t\t  packaging\r\n",
      "PIL\t\t\t\t  packaging-16.8.dist-info\r\n",
      "Pillow-4.1.1.dist-info\t\t  pandas\r\n",
      "Pygments-2.2.0.dist-info\t  pandas-0.20.1.dist-info\r\n",
      "Werkzeug-0.12.2.dist-info\t  pandocfilters-1.4.1.egg-info\r\n",
      "__pycache__\t\t\t  pandocfilters.py\r\n",
      "appdirs-1.4.3.dist-info\t\t  pexpect\r\n",
      "appdirs.py\t\t\t  pexpect-4.2.1.dist-info\r\n",
      "bleach\t\t\t\t  pickleshare-0.7.4.dist-info\r\n",
      "bleach-2.0.0.dist-info\t\t  pickleshare.py\r\n",
      "cv2\t\t\t\t  pip\r\n",
      "cycler-0.10.0.dist-info\t\t  pip-19.0.3.dist-info\r\n",
      "cycler.py\t\t\t  pkg_resources\r\n",
      "dateutil\t\t\t  prompt_toolkit\r\n",
      "decorator-4.0.11.dist-info\t  prompt_toolkit-1.0.14.dist-info\r\n",
      "decorator.py\t\t\t  protobuf-3.3.0-py3.5-nspkg.pth\r\n",
      "easy_install.py\t\t\t  protobuf-3.3.0.dist-info\r\n",
      "entrypoints-0.2.2.dist-info\t  ptyprocess\r\n",
      "entrypoints.py\t\t\t  ptyprocess-0.5.1.dist-info\r\n",
      "external\t\t\t  pygments\r\n",
      "google\t\t\t\t  pylab.py\r\n",
      "html5lib\t\t\t  pyparsing-2.2.0.dist-info\r\n",
      "html5lib-0.999999999.dist-info\t  pyparsing.py\r\n",
      "ipykernel\t\t\t  python_dateutil-2.6.0.dist-info\r\n",
      "ipykernel-4.6.1.dist-info\t  pytz\r\n",
      "ipykernel_launcher.py\t\t  pytz-2017.2.dist-info\r\n",
      "ipython-6.0.0.dist-info\t\t  pyzmq-16.0.2.dist-info\r\n",
      "ipython_genutils\t\t  qtconsole\r\n",
      "ipython_genutils-0.2.0.dist-info  qtconsole-4.3.0.dist-info\r\n",
      "ipywidgets\t\t\t  scikit_learn-0.18.1.dist-info\r\n",
      "ipywidgets-6.0.0.dist-info\t  scipy\r\n",
      "jedi\t\t\t\t  scipy-0.19.0.dist-info\r\n",
      "jedi-0.10.2.dist-info\t\t  setuptools\r\n",
      "jinja2\t\t\t\t  setuptools-35.0.2.dist-info\r\n",
      "jsonschema\t\t\t  simplegeneric-0.8.1.egg-info\r\n",
      "jsonschema-2.6.0.dist-info\t  simplegeneric.py\r\n",
      "jupyter-1.0.0.dist-info\t\t  six-1.10.0.dist-info\r\n",
      "jupyter.py\t\t\t  six.py\r\n",
      "jupyter_client\t\t\t  sklearn\r\n",
      "jupyter_client-5.0.1.dist-info\t  sklearn-0.0.egg-info\r\n",
      "jupyter_console\t\t\t  tensorflow\r\n",
      "jupyter_console-5.1.0.dist-info   tensorflow-1.1.0.dist-info\r\n",
      "jupyter_core\t\t\t  terminado\r\n",
      "jupyter_core-4.3.0.dist-info\t  terminado-0.6.egg-info\r\n",
      "markupsafe\t\t\t  testpath\r\n",
      "matplotlib\t\t\t  testpath-0.3.dist-info\r\n",
      "matplotlib-2.0.2-py3.5-nspkg.pth  tornado\r\n",
      "matplotlib-2.0.2.dist-info\t  tornado-4.5.1.egg-info\r\n",
      "mistune\t\t\t\t  traitlets\r\n",
      "mistune-0.7.4.dist-info\t\t  traitlets-4.3.2.dist-info\r\n",
      "mistune.py\t\t\t  wcwidth\r\n",
      "mpl_toolkits\t\t\t  wcwidth-0.1.7.dist-info\r\n",
      "nbconvert\t\t\t  webencodings\r\n",
      "nbconvert-5.1.1.dist-info\t  webencodings-0.5.1.dist-info\r\n",
      "nbformat\t\t\t  werkzeug\r\n",
      "nbformat-4.3.0.dist-info\t  wheel\r\n",
      "notebook\t\t\t  wheel-0.29.0.dist-info\r\n",
      "notebook-5.0.0.dist-info\t  widgetsnbextension\r\n",
      "numpy\t\t\t\t  widgetsnbextension-2.0.0.dist-info\r\n",
      "numpy-1.12.1.dist-info\t\t  zmq\r\n"
     ]
    }
   ],
   "source": [
    "## Confirm cv2 (OpenCV) is in os.sys path \n",
    "\n",
    "os.sys.path\n",
    "\n",
    "! ls /usr/local/lib/python3.5/dist-packages"
   ]
  },
  {
   "cell_type": "code",
   "execution_count": 21,
   "metadata": {},
   "outputs": [
    {
     "name": "stdout",
     "output_type": "stream",
     "text": [
      "Hit:1 http://archive.ubuntu.com/ubuntu xenial InRelease\n",
      "Hit:2 http://security.ubuntu.com/ubuntu xenial-security InRelease\n",
      "Hit:3 http://archive.ubuntu.com/ubuntu xenial-updates InRelease\n",
      "Hit:4 http://archive.ubuntu.com/ubuntu xenial-backports InRelease\n",
      "Reading package lists... Done\n",
      "Reading package lists... Done\n",
      "Building dependency tree       \n",
      "Reading state information... Done\n",
      "The following additional packages will be installed:\n",
      "  apt libapt-pkg5.0\n",
      "Suggested packages:\n",
      "  aptitude | synaptic | wajig apt-doc python-apt\n",
      "The following NEW packages will be installed:\n",
      "  apt-utils\n",
      "The following packages will be upgraded:\n",
      "  apt libapt-pkg5.0\n",
      "2 upgraded, 1 newly installed, 0 to remove and 118 not upgraded.\n",
      "Need to get 1996 kB of archives.\n",
      "After this operation, 894 kB of additional disk space will be used.\n",
      "Get:1 http://archive.ubuntu.com/ubuntu xenial-updates/main amd64 libapt-pkg5.0 amd64 1.2.31 [712 kB]\n",
      "Get:2 http://archive.ubuntu.com/ubuntu xenial-updates/main amd64 apt amd64 1.2.31 [1087 kB]\n",
      "Get:3 http://archive.ubuntu.com/ubuntu xenial-updates/main amd64 apt-utils amd64 1.2.31 [196 kB]\n",
      "Fetched 1996 kB in 1s (1137 kB/s)   \n",
      "debconf: delaying package configuration, since apt-utils is not installed\n",
      "(Reading database ... 13594 files and directories currently installed.)\n",
      "Preparing to unpack .../libapt-pkg5.0_1.2.31_amd64.deb ...\n",
      "Unpacking libapt-pkg5.0:amd64 (1.2.31) over (1.2.20) ...\n",
      "Processing triggers for libc-bin (2.23-0ubuntu7) ...\n",
      "Setting up libapt-pkg5.0:amd64 (1.2.31) ...\n",
      "Processing triggers for libc-bin (2.23-0ubuntu7) ...\n",
      "(Reading database ... 13594 files and directories currently installed.)\n",
      "Preparing to unpack .../archives/apt_1.2.31_amd64.deb ...\n",
      "Unpacking apt (1.2.31) over (1.2.20) ...\n",
      "Processing triggers for libc-bin (2.23-0ubuntu7) ...\n",
      "Setting up apt (1.2.31) ...\n",
      "Installing new version of config file /etc/apt/apt.conf.d/01autoremove ...\n",
      "Processing triggers for libc-bin (2.23-0ubuntu7) ...\n",
      "Selecting previously unselected package apt-utils.\n",
      "(Reading database ... 13605 files and directories currently installed.)\n",
      "Preparing to unpack .../apt-utils_1.2.31_amd64.deb ...\n",
      "Unpacking apt-utils (1.2.31) ...\n",
      "Setting up apt-utils (1.2.31) ...\n"
     ]
    }
   ],
   "source": [
    "! apt-get update\n",
    "! apt-get --assume-yes install apt-utils"
   ]
  },
  {
   "cell_type": "code",
   "execution_count": 1,
   "metadata": {},
   "outputs": [
    {
     "name": "stdout",
     "output_type": "stream",
     "text": [
      "Hit:1 http://archive.ubuntu.com/ubuntu xenial InRelease\n",
      "Hit:2 http://security.ubuntu.com/ubuntu xenial-security InRelease\n",
      "Hit:3 http://archive.ubuntu.com/ubuntu xenial-updates InRelease\n",
      "Hit:4 http://archive.ubuntu.com/ubuntu xenial-backports InRelease\n",
      "Reading package lists... Done\n",
      "Reading package lists... Done\n",
      "Building dependency tree       \n",
      "Reading state information... Done\n",
      "libsm6 is already the newest version (2:1.2.2-1).\n",
      "libxext6 is already the newest version (2:1.3.3-1).\n",
      "0 upgraded, 0 newly installed, 0 to remove and 118 not upgraded.\n"
     ]
    }
   ],
   "source": [
    "!apt-get update && apt-get install -y libsm6 libxext6"
   ]
  },
  {
   "cell_type": "code",
   "execution_count": 2,
   "metadata": {},
   "outputs": [
    {
     "name": "stdout",
     "output_type": "stream",
     "text": [
      "Reading package lists... Done\n",
      "Building dependency tree       \n",
      "Reading state information... Done\n",
      "libxrender1 is already the newest version (1:0.9.9-0ubuntu1).\n",
      "0 upgraded, 0 newly installed, 0 to remove and 118 not upgraded.\n"
     ]
    }
   ],
   "source": [
    "!apt-get install libxrender1"
   ]
  },
  {
   "cell_type": "code",
   "execution_count": 7,
   "metadata": {},
   "outputs": [
    {
     "name": "stderr",
     "output_type": "stream",
     "text": [
      "Using TensorFlow backend.\n"
     ]
    }
   ],
   "source": [
    "import cv2\n",
    "\n",
    "## Note: may return and install keras later \n",
    "import keras"
   ]
  },
  {
   "cell_type": "code",
   "execution_count": null,
   "metadata": {
    "collapsed": true
   },
   "outputs": [],
   "source": []
  }
 ],
 "metadata": {
  "kernelspec": {
   "display_name": "Python 3",
   "language": "python",
   "name": "python3"
  },
  "language_info": {
   "codemirror_mode": {
    "name": "ipython",
    "version": 3
   },
   "file_extension": ".py",
   "mimetype": "text/x-python",
   "name": "python",
   "nbconvert_exporter": "python",
   "pygments_lexer": "ipython3",
   "version": "3.5.2"
  }
 },
 "nbformat": 4,
 "nbformat_minor": 2
}
