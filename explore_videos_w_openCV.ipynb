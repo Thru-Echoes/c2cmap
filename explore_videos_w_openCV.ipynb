{
 "cells": [
  {
   "cell_type": "markdown",
   "metadata": {
    "collapsed": true
   },
   "source": [
    "# OpenCV functionality for videos \n",
    "\n",
    "\n",
    "*OpenCV* is a library for video processing and analysis. \n",
    "\n",
    "**1. motion estimation**\n",
    "\n",
    "**2. background subtraction**\n",
    "\n",
    "**3. object tracking algorithms** \n",
    "\n"
   ]
  },
  {
   "cell_type": "markdown",
   "metadata": {},
   "source": [
    "## Import Requirements 1\n",
    "\n",
    "### Step 1.1: Install OpenCV Python library"
   ]
  },
  {
   "cell_type": "code",
   "execution_count": 1,
   "metadata": {},
   "outputs": [
    {
     "name": "stdout",
     "output_type": "stream",
     "text": [
      "Requirement already up-to-date: pip in /usr/local/lib/python3.5/dist-packages (19.0.3)\n",
      "Collecting opencv-python\n",
      "\u001b[?25l  Downloading https://files.pythonhosted.org/packages/fe/c8/421eeac942ebc89552a5c90c2141b936be9cfde24dc3c6eeb472c62d1f8e/opencv_python-4.1.0.25-cp35-cp35m-manylinux1_x86_64.whl (26.6MB)\n",
      "\u001b[K    100% |################################| 26.6MB 2.6MB/s eta 0:00:011\n",
      "\u001b[?25hRequirement already satisfied: numpy>=1.11.1 in /usr/local/lib/python3.5/dist-packages (from opencv-python) (1.12.1)\n",
      "Installing collected packages: opencv-python\n",
      "Successfully installed opencv-python-4.1.0.25\n"
     ]
    }
   ],
   "source": [
    "## Execute installation of the OpenCV Python library as a shell commmand \n",
    "\n",
    "import sys\n",
    "\n",
    "## Upgrade pip (optional) \n",
    "! pip3 install --upgrade pip\n",
    "\n",
    "#! pip3 install --prefix {sys.prefix} opencv-python\n",
    "! pip3 install opencv-python"
   ]
  },
  {
   "cell_type": "markdown",
   "metadata": {},
   "source": [
    "### Step 1.2: Check pip3 installed OpenCV\n",
    "\n",
    "**pip3 list** shows all available packages / libraries in this (*Jupyter notebook*) environment "
   ]
  },
  {
   "cell_type": "code",
   "execution_count": 7,
   "metadata": {
    "collapsed": true
   },
   "outputs": [],
   "source": [
    "#! pip3 list"
   ]
  },
  {
   "cell_type": "markdown",
   "metadata": {},
   "source": [
    "### Step 1.3: Install keras \n",
    "\n",
    "*Keras* is a nerual network library that runs on Tensorflow and makes implementing deep learning models (*i.e. deep neural networks*) \"fast and easy\".\n",
    "\n",
    "**Note: may return to this step and run '! pip3 install keras'"
   ]
  },
  {
   "cell_type": "code",
   "execution_count": 6,
   "metadata": {},
   "outputs": [
    {
     "name": "stdout",
     "output_type": "stream",
     "text": [
      "Collecting keras\n",
      "\u001b[?25l  Downloading https://files.pythonhosted.org/packages/5e/10/aa32dad071ce52b5502266b5c659451cfd6ffcbf14e6c8c4f16c0ff5aaab/Keras-2.2.4-py2.py3-none-any.whl (312kB)\n",
      "\u001b[K    100% |################################| 317kB 28.2MB/s ta 0:00:01\n",
      "\u001b[?25hRequirement already satisfied: numpy>=1.9.1 in /usr/local/lib/python3.5/dist-packages (from keras) (1.12.1)\n",
      "Collecting h5py (from keras)\n",
      "\u001b[?25l  Downloading https://files.pythonhosted.org/packages/4c/77/c4933e12dca0f61bcdafc207c7532e1250b8d12719459fd85132f3daa9fd/h5py-2.9.0-cp35-cp35m-manylinux1_x86_64.whl (2.8MB)\n",
      "\u001b[K    100% |################################| 2.8MB 13.1MB/s ta 0:00:01\n",
      "\u001b[?25hRequirement already satisfied: scipy>=0.14 in /usr/local/lib/python3.5/dist-packages (from keras) (0.19.0)\n",
      "Collecting keras-applications>=1.0.6 (from keras)\n",
      "\u001b[?25l  Downloading https://files.pythonhosted.org/packages/90/85/64c82949765cfb246bbdaf5aca2d55f400f792655927a017710a78445def/Keras_Applications-1.0.7-py2.py3-none-any.whl (51kB)\n",
      "\u001b[K    100% |################################| 61kB 34.9MB/s ta 0:00:01\n",
      "\u001b[?25hCollecting keras-preprocessing>=1.0.5 (from keras)\n",
      "\u001b[?25l  Downloading https://files.pythonhosted.org/packages/c0/bf/0315ef6a9fd3fc2346e85b0ff1f5f83ca17073f2c31ac719ab2e4da0d4a3/Keras_Preprocessing-1.0.9-py2.py3-none-any.whl (59kB)\n",
      "\u001b[K    100% |################################| 61kB 20.2MB/s ta 0:00:01\n",
      "\u001b[?25hRequirement already satisfied: six>=1.9.0 in /usr/local/lib/python3.5/dist-packages (from keras) (1.10.0)\n",
      "Collecting pyyaml (from keras)\n",
      "\u001b[?25l  Downloading https://files.pythonhosted.org/packages/9f/2c/9417b5c774792634834e730932745bc09a7d36754ca00acf1ccd1ac2594d/PyYAML-5.1.tar.gz (274kB)\n",
      "\u001b[K    100% |################################| 276kB 41.9MB/s ta 0:00:01\n",
      "\u001b[?25hBuilding wheels for collected packages: pyyaml\n",
      "  Building wheel for pyyaml (setup.py) ... \u001b[?25ldone\n",
      "\u001b[?25h  Stored in directory: /root/.cache/pip/wheels/ad/56/bc/1522f864feb2a358ea6f1a92b4798d69ac783a28e80567a18b\n",
      "Successfully built pyyaml\n",
      "Installing collected packages: h5py, keras-applications, keras-preprocessing, pyyaml, keras\n",
      "Successfully installed h5py-2.9.0 keras-2.2.4 keras-applications-1.0.7 keras-preprocessing-1.0.9 pyyaml-5.1\n"
     ]
    }
   ],
   "source": [
    "! pip3 install keras"
   ]
  },
  {
   "cell_type": "markdown",
   "metadata": {},
   "source": [
    "### Step 1.4: Import requirements  "
   ]
  },
  {
   "cell_type": "code",
   "execution_count": 21,
   "metadata": {
    "collapsed": true
   },
   "outputs": [],
   "source": [
    "import tensorflow as tf \n",
    "import os \n",
    "import math"
   ]
  },
  {
   "cell_type": "code",
   "execution_count": 15,
   "metadata": {},
   "outputs": [
    {
     "name": "stdout",
     "output_type": "stream",
     "text": [
      "IPython\t\t\t\t  olefile\r\n",
      "Jinja2-2.9.6.dist-info\t\t  olefile-0.44.egg-info\r\n",
      "MarkupSafe-1.0.egg-info\t\t  opencv_python-4.1.0.25.dist-info\r\n",
      "OleFileIO_PL.py\t\t\t  packaging\r\n",
      "PIL\t\t\t\t  packaging-16.8.dist-info\r\n",
      "Pillow-4.1.1.dist-info\t\t  pandas\r\n",
      "Pygments-2.2.0.dist-info\t  pandas-0.20.1.dist-info\r\n",
      "Werkzeug-0.12.2.dist-info\t  pandocfilters-1.4.1.egg-info\r\n",
      "__pycache__\t\t\t  pandocfilters.py\r\n",
      "appdirs-1.4.3.dist-info\t\t  pexpect\r\n",
      "appdirs.py\t\t\t  pexpect-4.2.1.dist-info\r\n",
      "bleach\t\t\t\t  pickleshare-0.7.4.dist-info\r\n",
      "bleach-2.0.0.dist-info\t\t  pickleshare.py\r\n",
      "cv2\t\t\t\t  pip\r\n",
      "cycler-0.10.0.dist-info\t\t  pip-19.0.3.dist-info\r\n",
      "cycler.py\t\t\t  pkg_resources\r\n",
      "dateutil\t\t\t  prompt_toolkit\r\n",
      "decorator-4.0.11.dist-info\t  prompt_toolkit-1.0.14.dist-info\r\n",
      "decorator.py\t\t\t  protobuf-3.3.0-py3.5-nspkg.pth\r\n",
      "easy_install.py\t\t\t  protobuf-3.3.0.dist-info\r\n",
      "entrypoints-0.2.2.dist-info\t  ptyprocess\r\n",
      "entrypoints.py\t\t\t  ptyprocess-0.5.1.dist-info\r\n",
      "external\t\t\t  pygments\r\n",
      "google\t\t\t\t  pylab.py\r\n",
      "html5lib\t\t\t  pyparsing-2.2.0.dist-info\r\n",
      "html5lib-0.999999999.dist-info\t  pyparsing.py\r\n",
      "ipykernel\t\t\t  python_dateutil-2.6.0.dist-info\r\n",
      "ipykernel-4.6.1.dist-info\t  pytz\r\n",
      "ipykernel_launcher.py\t\t  pytz-2017.2.dist-info\r\n",
      "ipython-6.0.0.dist-info\t\t  pyzmq-16.0.2.dist-info\r\n",
      "ipython_genutils\t\t  qtconsole\r\n",
      "ipython_genutils-0.2.0.dist-info  qtconsole-4.3.0.dist-info\r\n",
      "ipywidgets\t\t\t  scikit_learn-0.18.1.dist-info\r\n",
      "ipywidgets-6.0.0.dist-info\t  scipy\r\n",
      "jedi\t\t\t\t  scipy-0.19.0.dist-info\r\n",
      "jedi-0.10.2.dist-info\t\t  setuptools\r\n",
      "jinja2\t\t\t\t  setuptools-35.0.2.dist-info\r\n",
      "jsonschema\t\t\t  simplegeneric-0.8.1.egg-info\r\n",
      "jsonschema-2.6.0.dist-info\t  simplegeneric.py\r\n",
      "jupyter-1.0.0.dist-info\t\t  six-1.10.0.dist-info\r\n",
      "jupyter.py\t\t\t  six.py\r\n",
      "jupyter_client\t\t\t  sklearn\r\n",
      "jupyter_client-5.0.1.dist-info\t  sklearn-0.0.egg-info\r\n",
      "jupyter_console\t\t\t  tensorflow\r\n",
      "jupyter_console-5.1.0.dist-info   tensorflow-1.1.0.dist-info\r\n",
      "jupyter_core\t\t\t  terminado\r\n",
      "jupyter_core-4.3.0.dist-info\t  terminado-0.6.egg-info\r\n",
      "markupsafe\t\t\t  testpath\r\n",
      "matplotlib\t\t\t  testpath-0.3.dist-info\r\n",
      "matplotlib-2.0.2-py3.5-nspkg.pth  tornado\r\n",
      "matplotlib-2.0.2.dist-info\t  tornado-4.5.1.egg-info\r\n",
      "mistune\t\t\t\t  traitlets\r\n",
      "mistune-0.7.4.dist-info\t\t  traitlets-4.3.2.dist-info\r\n",
      "mistune.py\t\t\t  wcwidth\r\n",
      "mpl_toolkits\t\t\t  wcwidth-0.1.7.dist-info\r\n",
      "nbconvert\t\t\t  webencodings\r\n",
      "nbconvert-5.1.1.dist-info\t  webencodings-0.5.1.dist-info\r\n",
      "nbformat\t\t\t  werkzeug\r\n",
      "nbformat-4.3.0.dist-info\t  wheel\r\n",
      "notebook\t\t\t  wheel-0.29.0.dist-info\r\n",
      "notebook-5.0.0.dist-info\t  widgetsnbextension\r\n",
      "numpy\t\t\t\t  widgetsnbextension-2.0.0.dist-info\r\n",
      "numpy-1.12.1.dist-info\t\t  zmq\r\n"
     ]
    }
   ],
   "source": [
    "## Confirm cv2 (OpenCV) is in os.sys path \n",
    "\n",
    "os.sys.path\n",
    "\n",
    "! ls /usr/local/lib/python3.5/dist-packages"
   ]
  },
  {
   "cell_type": "code",
   "execution_count": 2,
   "metadata": {},
   "outputs": [
    {
     "name": "stdout",
     "output_type": "stream",
     "text": [
      "Get:1 http://archive.ubuntu.com/ubuntu xenial InRelease [247 kB]\n",
      "Get:2 http://security.ubuntu.com/ubuntu xenial-security InRelease [109 kB]\n",
      "Get:3 http://archive.ubuntu.com/ubuntu xenial-updates InRelease [109 kB]       \n",
      "Get:4 http://archive.ubuntu.com/ubuntu xenial-backports InRelease [107 kB]     \n",
      "Get:5 http://security.ubuntu.com/ubuntu xenial-security/universe Sources [128 kB]\n",
      "Get:6 http://archive.ubuntu.com/ubuntu xenial/universe Sources [9802 kB]       \n",
      "Get:7 http://security.ubuntu.com/ubuntu xenial-security/main amd64 Packages [816 kB]\n",
      "Get:8 http://archive.ubuntu.com/ubuntu xenial/main amd64 Packages [1558 kB]\n",
      "Get:9 http://archive.ubuntu.com/ubuntu xenial/restricted amd64 Packages [14.1 kB]\n",
      "Get:10 http://archive.ubuntu.com/ubuntu xenial/universe amd64 Packages [9827 kB]\n",
      "Get:11 http://security.ubuntu.com/ubuntu xenial-security/restricted amd64 Packages [12.7 kB]\n",
      "Get:12 http://security.ubuntu.com/ubuntu xenial-security/universe amd64 Packages [551 kB]\n",
      "Get:13 http://security.ubuntu.com/ubuntu xenial-security/multiverse amd64 Packages [6121 B]\n",
      "Get:14 http://archive.ubuntu.com/ubuntu xenial/multiverse amd64 Packages [176 kB]\n",
      "Get:15 http://archive.ubuntu.com/ubuntu xenial-updates/universe Sources [319 kB]\n",
      "Get:16 http://archive.ubuntu.com/ubuntu xenial-updates/main amd64 Packages [1212 kB]\n",
      "Get:17 http://archive.ubuntu.com/ubuntu xenial-updates/restricted amd64 Packages [13.1 kB]\n",
      "Get:18 http://archive.ubuntu.com/ubuntu xenial-updates/universe amd64 Packages [962 kB]\n",
      "Get:19 http://archive.ubuntu.com/ubuntu xenial-updates/multiverse amd64 Packages [19.1 kB]\n",
      "Get:20 http://archive.ubuntu.com/ubuntu xenial-backports/main amd64 Packages [7942 B]\n",
      "Get:21 http://archive.ubuntu.com/ubuntu xenial-backports/universe amd64 Packages [8532 B]\n",
      "Fetched 26.0 MB in 3s (7470 kB/s)                         \n",
      "Reading package lists... Done\n",
      "Reading package lists... Done\n",
      "Building dependency tree       \n",
      "Reading state information... Done\n",
      "The following additional packages will be installed:\n",
      "  apt libapt-pkg5.0\n",
      "Suggested packages:\n",
      "  aptitude | synaptic | wajig apt-doc python-apt\n",
      "The following NEW packages will be installed:\n",
      "  apt-utils\n",
      "The following packages will be upgraded:\n",
      "  apt libapt-pkg5.0\n",
      "2 upgraded, 1 newly installed, 0 to remove and 118 not upgraded.\n",
      "Need to get 1996 kB of archives.\n",
      "After this operation, 894 kB of additional disk space will be used.\n",
      "Get:1 http://archive.ubuntu.com/ubuntu xenial-updates/main amd64 libapt-pkg5.0 amd64 1.2.31 [712 kB]\n",
      "Get:2 http://archive.ubuntu.com/ubuntu xenial-updates/main amd64 apt amd64 1.2.31 [1087 kB]\n",
      "Get:3 http://archive.ubuntu.com/ubuntu xenial-updates/main amd64 apt-utils amd64 1.2.31 [196 kB]\n",
      "Fetched 1996 kB in 2s (737 kB/s)    \n",
      "debconf: delaying package configuration, since apt-utils is not installed\n",
      "(Reading database ... 13594 files and directories currently installed.)\n",
      "Preparing to unpack .../libapt-pkg5.0_1.2.31_amd64.deb ...\n",
      "Unpacking libapt-pkg5.0:amd64 (1.2.31) over (1.2.20) ...\n",
      "Processing triggers for libc-bin (2.23-0ubuntu7) ...\n",
      "Setting up libapt-pkg5.0:amd64 (1.2.31) ...\n",
      "Processing triggers for libc-bin (2.23-0ubuntu7) ...\n",
      "(Reading database ... 13594 files and directories currently installed.)\n",
      "Preparing to unpack .../archives/apt_1.2.31_amd64.deb ...\n",
      "Unpacking apt (1.2.31) over (1.2.20) ...\n",
      "Processing triggers for libc-bin (2.23-0ubuntu7) ...\n",
      "Setting up apt (1.2.31) ...\n",
      "Installing new version of config file /etc/apt/apt.conf.d/01autoremove ...\n",
      "Processing triggers for libc-bin (2.23-0ubuntu7) ...\n",
      "Selecting previously unselected package apt-utils.\n",
      "(Reading database ... 13605 files and directories currently installed.)\n",
      "Preparing to unpack .../apt-utils_1.2.31_amd64.deb ...\n",
      "Unpacking apt-utils (1.2.31) ...\n",
      "Setting up apt-utils (1.2.31) ...\n"
     ]
    }
   ],
   "source": [
    "! apt-get update\n",
    "! apt-get --assume-yes install apt-utils"
   ]
  },
  {
   "cell_type": "code",
   "execution_count": 3,
   "metadata": {},
   "outputs": [
    {
     "name": "stdout",
     "output_type": "stream",
     "text": [
      "Hit:1 http://archive.ubuntu.com/ubuntu xenial InRelease\n",
      "Hit:2 http://security.ubuntu.com/ubuntu xenial-security InRelease\n",
      "Hit:3 http://archive.ubuntu.com/ubuntu xenial-updates InRelease\n",
      "Hit:4 http://archive.ubuntu.com/ubuntu xenial-backports InRelease\n",
      "Reading package lists... Done                     \n",
      "Reading package lists... Done\n",
      "Building dependency tree       \n",
      "Reading state information... Done\n",
      "The following additional packages will be installed:\n",
      "  libice6 libx11-6 libx11-data libxau6 libxcb1 libxdmcp6 x11-common\n",
      "The following NEW packages will be installed:\n",
      "  libice6 libsm6 libx11-6 libx11-data libxau6 libxcb1 libxdmcp6 libxext6\n",
      "  x11-common\n",
      "0 upgraded, 9 newly installed, 0 to remove and 118 not upgraded.\n",
      "Need to get 850 kB of archives.\n",
      "After this operation, 3842 kB of additional disk space will be used.\n",
      "Get:1 http://archive.ubuntu.com/ubuntu xenial/main amd64 libxau6 amd64 1:1.0.8-1 [8376 B]\n",
      "Get:2 http://archive.ubuntu.com/ubuntu xenial/main amd64 libxdmcp6 amd64 1:1.1.2-1.1 [11.0 kB]\n",
      "Get:3 http://archive.ubuntu.com/ubuntu xenial/main amd64 libxcb1 amd64 1.11.1-1ubuntu1 [40.0 kB]\n",
      "Get:4 http://archive.ubuntu.com/ubuntu xenial-updates/main amd64 libx11-data all 2:1.6.3-1ubuntu2.1 [113 kB]\n",
      "Get:5 http://archive.ubuntu.com/ubuntu xenial-updates/main amd64 libx11-6 amd64 2:1.6.3-1ubuntu2.1 [570 kB]\n",
      "Get:6 http://archive.ubuntu.com/ubuntu xenial/main amd64 libxext6 amd64 2:1.3.3-1 [29.4 kB]\n",
      "Get:7 http://archive.ubuntu.com/ubuntu xenial-updates/main amd64 x11-common all 1:7.7+13ubuntu3.1 [22.9 kB]\n",
      "Get:8 http://archive.ubuntu.com/ubuntu xenial/main amd64 libice6 amd64 2:1.0.9-1 [39.2 kB]\n",
      "Get:9 http://archive.ubuntu.com/ubuntu xenial/main amd64 libsm6 amd64 2:1.2.2-1 [15.8 kB]\n",
      "Fetched 850 kB in 7s (109 kB/s)                                                \n",
      "debconf: unable to initialize frontend: Dialog\n",
      "debconf: (No usable dialog-like program is installed, so the dialog based frontend cannot be used. at /usr/share/perl5/Debconf/FrontEnd/Dialog.pm line 76, <> line 9.)\n",
      "debconf: falling back to frontend: Readline\n",
      "Selecting previously unselected package libxau6:amd64.\n",
      "(Reading database ... 13644 files and directories currently installed.)\n",
      "Preparing to unpack .../libxau6_1%3a1.0.8-1_amd64.deb ...\n",
      "Unpacking libxau6:amd64 (1:1.0.8-1) ...\n",
      "Selecting previously unselected package libxdmcp6:amd64.\n",
      "Preparing to unpack .../libxdmcp6_1%3a1.1.2-1.1_amd64.deb ...\n",
      "Unpacking libxdmcp6:amd64 (1:1.1.2-1.1) ...\n",
      "Selecting previously unselected package libxcb1:amd64.\n",
      "Preparing to unpack .../libxcb1_1.11.1-1ubuntu1_amd64.deb ...\n",
      "Unpacking libxcb1:amd64 (1.11.1-1ubuntu1) ...\n",
      "Selecting previously unselected package libx11-data.\n",
      "Preparing to unpack .../libx11-data_2%3a1.6.3-1ubuntu2.1_all.deb ...\n",
      "Unpacking libx11-data (2:1.6.3-1ubuntu2.1) ...\n",
      "Selecting previously unselected package libx11-6:amd64.\n",
      "Preparing to unpack .../libx11-6_2%3a1.6.3-1ubuntu2.1_amd64.deb ...\n",
      "Unpacking libx11-6:amd64 (2:1.6.3-1ubuntu2.1) ...\n",
      "Selecting previously unselected package libxext6:amd64.\n",
      "Preparing to unpack .../libxext6_2%3a1.3.3-1_amd64.deb ...\n",
      "Unpacking libxext6:amd64 (2:1.3.3-1) ...\n",
      "Selecting previously unselected package x11-common.\n",
      "Preparing to unpack .../x11-common_1%3a7.7+13ubuntu3.1_all.deb ...\n",
      "dpkg-query: no packages found matching nux-tools\n",
      "Unpacking x11-common (1:7.7+13ubuntu3.1) ...\n",
      "Selecting previously unselected package libice6:amd64.\n",
      "Preparing to unpack .../libice6_2%3a1.0.9-1_amd64.deb ...\n",
      "Unpacking libice6:amd64 (2:1.0.9-1) ...\n",
      "Selecting previously unselected package libsm6:amd64.\n",
      "Preparing to unpack .../libsm6_2%3a1.2.2-1_amd64.deb ...\n",
      "Unpacking libsm6:amd64 (2:1.2.2-1) ...\n",
      "Processing triggers for libc-bin (2.23-0ubuntu7) ...\n",
      "Processing triggers for systemd (229-4ubuntu17) ...\n",
      "Setting up libxau6:amd64 (1:1.0.8-1) ...\n",
      "Setting up libxdmcp6:amd64 (1:1.1.2-1.1) ...\n",
      "Setting up libxcb1:amd64 (1.11.1-1ubuntu1) ...\n",
      "Setting up libx11-data (2:1.6.3-1ubuntu2.1) ...\n",
      "Setting up libx11-6:amd64 (2:1.6.3-1ubuntu2.1) ...\n",
      "Setting up libxext6:amd64 (2:1.3.3-1) ...\n",
      "Setting up x11-common (1:7.7+13ubuntu3.1) ...\n",
      "debconf: unable to initialize frontend: Dialog\n",
      "debconf: (No usable dialog-like program is installed, so the dialog based frontend cannot be used. at /usr/share/perl5/Debconf/FrontEnd/Dialog.pm line 76.)\n",
      "debconf: falling back to frontend: Readline\n",
      "update-rc.d: warning: start and stop actions are no longer supported; falling back to defaults\n",
      "invoke-rc.d: could not determine current runlevel\n",
      "invoke-rc.d: policy-rc.d denied execution of start.\n",
      "Setting up libice6:amd64 (2:1.0.9-1) ...\n",
      "Setting up libsm6:amd64 (2:1.2.2-1) ...\n",
      "Processing triggers for libc-bin (2.23-0ubuntu7) ...\n",
      "Processing triggers for systemd (229-4ubuntu17) ...\n"
     ]
    }
   ],
   "source": [
    "!apt-get update && apt-get install -y libsm6 libxext6"
   ]
  },
  {
   "cell_type": "code",
   "execution_count": 4,
   "metadata": {},
   "outputs": [
    {
     "name": "stdout",
     "output_type": "stream",
     "text": [
      "Reading package lists... Done\n",
      "Building dependency tree       \n",
      "Reading state information... Done\n",
      "The following NEW packages will be installed:\n",
      "  libxrender1\n",
      "0 upgraded, 1 newly installed, 0 to remove and 118 not upgraded.\n",
      "Need to get 18.5 kB of archives.\n",
      "After this operation, 80.9 kB of additional disk space will be used.\n",
      "Get:1 http://archive.ubuntu.com/ubuntu xenial/main amd64 libxrender1 amd64 1:0.9.9-0ubuntu1 [18.5 kB]\n",
      "Fetched 18.5 kB in 0s (55.7 kB/s)   \n",
      "debconf: unable to initialize frontend: Dialog\n",
      "debconf: (No usable dialog-like program is installed, so the dialog based frontend cannot be used. at /usr/share/perl5/Debconf/FrontEnd/Dialog.pm line 76, <> line 1.)\n",
      "debconf: falling back to frontend: Readline\n",
      "Selecting previously unselected package libxrender1:amd64.\n",
      "(Reading database ... 13971 files and directories currently installed.)\n",
      "Preparing to unpack .../libxrender1_1%3a0.9.9-0ubuntu1_amd64.deb ...\n",
      "Unpacking libxrender1:amd64 (1:0.9.9-0ubuntu1) ...\n",
      "Setting up libxrender1:amd64 (1:0.9.9-0ubuntu1) ...\n",
      "Processing triggers for libc-bin (2.23-0ubuntu7) ...\n"
     ]
    }
   ],
   "source": [
    "!apt-get install libxrender1"
   ]
  },
  {
   "cell_type": "code",
   "execution_count": 5,
   "metadata": {},
   "outputs": [
    {
     "name": "stderr",
     "output_type": "stream",
     "text": [
      "Using TensorFlow backend.\n"
     ]
    }
   ],
   "source": [
    "import cv2\n",
    "\n",
    "## Note: may return and install keras later \n",
    "import keras"
   ]
  },
  {
   "cell_type": "markdown",
   "metadata": {},
   "source": [
    "## Sample Video as Temporal-based Frames 2\n",
    "\n",
    "Now we can use OpenCV to capture a video as a time-series image data. \n",
    "\n",
    "### Step 2.1: Nest 13B35A August 1 08:41\n",
    "\n",
    "We will capture the following variables from this single sample video: \n",
    "\n",
    "**length** - number of frames (*i.e. images*) in this video \n",
    "\n",
    "**fps** - frames per second of the video \n",
    "\n",
    "**width** - width of each frame \n",
    "\n",
    "**height** - height of each frame"
   ]
  },
  {
   "cell_type": "code",
   "execution_count": 11,
   "metadata": {
    "collapsed": true
   },
   "outputs": [],
   "source": [
    "## Read in sample video from file \n",
    "\n",
    "vid_0801 = cv2.VideoCapture(\"/videodata/13B35A/0801_0841/00006.MTS\")"
   ]
  },
  {
   "cell_type": "code",
   "execution_count": 23,
   "metadata": {
    "collapsed": true
   },
   "outputs": [],
   "source": [
    "## OpenCV Python examples \n",
    "\n",
    "# First frame of the video \n",
    "ret, frame = vid_0801.read()\n",
    "\n",
    "vid_0801_fps = vid_0801.get(cv2.CAP_PROP_FPS)\n",
    "\n",
    "\n",
    "vid_0801.release()"
   ]
  },
  {
   "cell_type": "code",
   "execution_count": 24,
   "metadata": {},
   "outputs": [
    {
     "ename": "error",
     "evalue": "OpenCV(4.1.0) /io/opencv/modules/highgui/src/window.cpp:352: error: (-215:Assertion failed) size.width>0 && size.height>0 in function 'imshow'\n",
     "output_type": "error",
     "traceback": [
      "\u001b[0;31m---------------------------------------------------------------------------\u001b[0m",
      "\u001b[0;31merror\u001b[0m                                     Traceback (most recent call last)",
      "\u001b[0;32m<ipython-input-24-c7f16a9c5395>\u001b[0m in \u001b[0;36m<module>\u001b[0;34m()\u001b[0m\n\u001b[1;32m     17\u001b[0m \u001b[0;34m\u001b[0m\u001b[0m\n\u001b[1;32m     18\u001b[0m         \u001b[0;31m# Show frame\u001b[0m\u001b[0;34m\u001b[0m\u001b[0;34m\u001b[0m\u001b[0m\n\u001b[0;32m---> 19\u001b[0;31m         \u001b[0mcv2\u001b[0m\u001b[0;34m.\u001b[0m\u001b[0mimshow\u001b[0m\u001b[0;34m(\u001b[0m\u001b[0;34m\"image\"\u001b[0m\u001b[0;34m,\u001b[0m \u001b[0mcurr_frame\u001b[0m\u001b[0;34m)\u001b[0m\u001b[0;34m\u001b[0m\u001b[0m\n\u001b[0m\u001b[1;32m     20\u001b[0m         \u001b[0mcv2\u001b[0m\u001b[0;34m.\u001b[0m\u001b[0mwaitKey\u001b[0m\u001b[0;34m(\u001b[0m\u001b[0;36m1\u001b[0m\u001b[0;34m)\u001b[0m\u001b[0;34m\u001b[0m\u001b[0m\n",
      "\u001b[0;31merror\u001b[0m: OpenCV(4.1.0) /io/opencv/modules/highgui/src/window.cpp:352: error: (-215:Assertion failed) size.width>0 && size.height>0 in function 'imshow'\n"
     ]
    }
   ],
   "source": [
    "## Deep learning TensorFlow \n",
    "\n",
    "with tf.Session() as sess: \n",
    "    \n",
    "    vid_0801 = cv2.VideoCapture(\"/videodata/13B35A/0801_0841/00006.MTS\")\n",
    "    \n",
    "    i = 0\n",
    "    #while True:\n",
    "    while i < 10:\n",
    "        curr_frame = vid_0801.read()[1]\n",
    "        curr_frame_num = vid_0801.get(1)\n",
    "        \n",
    "        i = i + 1\n",
    "        \n",
    "        # Write frame as image to file \n",
    "        cv2.imwrite(filename = \"imagedata/13B35A/0801_0841/img\" + str(i) + \".png\", img = curr_frame)\n",
    "        \n",
    "        # Show frame\n",
    "        cv2.imshow(\"image\", curr_frame)\n",
    "        cv2.waitKey(1)\n",
    "        \n",
    "    vid_0801.release()\n",
    "    cv2.destroyAllWindows()"
   ]
  },
  {
   "cell_type": "markdown",
   "metadata": {},
   "source": [
    "### Step 2.2: Initial attempt (above) failed \n",
    "\n",
    "Each *.mts* file is (usually) **2.1gb**. However, OpenCV does not seem to be able to read in these files and understand their data structure (*or meta-data? Not sure exactly*). Converting each .mts file into an *.mp4* is possible but takes hours to run in order to obtain a high-quality product.  \n",
    "\n",
    "The following work will address the issues above and *account for the extra space around the chicks that came from the distance the cameras were to the nests*. I am going to crop a video to only have the core area around the chicks in the next (*e.g. remove extra space to the left and right of the chicks in the videos*). \n",
    "\n",
    "Videos were roughly **1900px width** and **1100px height**. However, there is much more space hanging to the left and right of the nests than above and below it. I am removing **100px** from the top and bottom of the videos. Then I am removing **500px** from the left and from the right. Thus, the final preprocessed sample is 900px x 900px. \n",
    "\n",
    "In addition, I will crop an image to be somewhere between *30secs - 5min*. "
   ]
  },
  {
   "cell_type": "code",
   "execution_count": 28,
   "metadata": {
    "collapsed": true
   },
   "outputs": [],
   "source": [
    "## Read in sample video from file \n",
    "\n",
    "vid_0720_sample = cv2.VideoCapture(\"/videodata/13B35A/0720_1030/30sec_sample_00014.mp4\")\n",
    "\n",
    "## OpenCV Python examples \n",
    "\n",
    "# First frame of the video \n",
    "ret0720, frame0720 = vid_0720_sample.read()\n",
    "\n",
    "vid_0720s_fps = vid_0720_sample.get(cv2.CAP_PROP_FPS)\n",
    "\n",
    "\n",
    "vid_0720_sample.release()"
   ]
  },
  {
   "cell_type": "code",
   "execution_count": 31,
   "metadata": {},
   "outputs": [
    {
     "data": {
      "text/plain": [
       "(False, None)"
      ]
     },
     "execution_count": 31,
     "metadata": {},
     "output_type": "execute_result"
    }
   ],
   "source": [
    "vid_0720_sample.read()"
   ]
  },
  {
   "cell_type": "markdown",
   "metadata": {},
   "source": [
    "## Video Manipulation (i.e. processing) and Analysis 3\n",
    "\n",
    "Videos are a time-series collection of the spatial data-type image. Images are two dimensional matrices. Each cell in the two dimensional array / matrix of an image has three channels, *red, green, and blue*.\n",
    "\n",
    "**Mean shift** (and the closely related **Cam shift**) is a non-parametric algorithm that is used to locate the maxima of a density function. The algorithm more or less creates a square or circle in some subspace of the image. That square or circle has a centroid. Then the highest density of points within that circle or square is calculated. If the centroid is not within some degree of allowed error to the area with the highest density, then the circle or square moves such that the initial centroid is at the location with the highest density of points from where it just was. \n",
    "\n",
    "Often a Gaussian kernel is used on the distances to the current estimate. There is an extension of the mean shirt algorithm called *CAM shift* and it will be discussed below.\n",
    "\n",
    "### Use of meanshift 3.1\n",
    "\n",
    "*Mean shift* can be used for **cluster analysis** and **object tracking** in video processing and analysis. \n",
    "\n",
    "**How does object tracking work with this algorithm?** \n",
    "\n",
    "The algorithm creates a confidence map based on the color histogram (*rgb channels*) of the object in the previous image. Mean shift finds the peak of the confidence map near the object's old position. This confidence map is a probability density functioon on the new confidence map. Each pixel in the new image has a probability. That probability is of the pixel color changing (*i.e. one of those three colors changing -or- in combination*) since the previous image / frame.\n",
    "\n",
    "**Note: meanshift is an algorithm that creates a new image where every pixel is replaced with the mean of all pixels that were within some window** that is specified as the bandwidth parameter.\n",
    "\n",
    "### Use of CAMshift 3.2 \n",
    "\n",
    "**CAMshift** is based on mean shift but does a bit more. It has three parts: \n",
    "\n",
    "i) *Back projection*\n",
    "\n",
    "E.g. if a specific color, deep purple, shows up in 34% of the pixels in an image - then all instances of that deep purple would be changed to 0.34. This way it turns the image into a probabilistic representation of each color.\n",
    "\n",
    "ii) *Mean shift*\n",
    "\n",
    "As described above...\n",
    "\n",
    "iii) *Track* \n",
    "\n",
    "This is simply moving the circle or rectangle along with an object. Tracking also involves changing the angle of our tracker. This means we are following the orientation of our target (*whatever we want to see in these videos*)."
   ]
  },
  {
   "cell_type": "code",
   "execution_count": 32,
   "metadata": {},
   "outputs": [
    {
     "ename": "error",
     "evalue": "OpenCV(4.1.0) /io/opencv/modules/highgui/src/window.cpp:352: error: (-215:Assertion failed) size.width>0 && size.height>0 in function 'imshow'\n",
     "output_type": "error",
     "traceback": [
      "\u001b[0;31m---------------------------------------------------------------------------\u001b[0m",
      "\u001b[0;31merror\u001b[0m                                     Traceback (most recent call last)",
      "\u001b[0;32m<ipython-input-32-770ec85369a2>\u001b[0m in \u001b[0;36m<module>\u001b[0;34m()\u001b[0m\n\u001b[1;32m     17\u001b[0m \u001b[0;34m\u001b[0m\u001b[0m\n\u001b[1;32m     18\u001b[0m         \u001b[0;31m# Show frame\u001b[0m\u001b[0;34m\u001b[0m\u001b[0;34m\u001b[0m\u001b[0m\n\u001b[0;32m---> 19\u001b[0;31m         \u001b[0mcv2\u001b[0m\u001b[0;34m.\u001b[0m\u001b[0mimshow\u001b[0m\u001b[0;34m(\u001b[0m\u001b[0;34m\"image\"\u001b[0m\u001b[0;34m,\u001b[0m \u001b[0mcurr_frame\u001b[0m\u001b[0;34m)\u001b[0m\u001b[0;34m\u001b[0m\u001b[0m\n\u001b[0m\u001b[1;32m     20\u001b[0m         \u001b[0mcv2\u001b[0m\u001b[0;34m.\u001b[0m\u001b[0mwaitKey\u001b[0m\u001b[0;34m(\u001b[0m\u001b[0;36m1\u001b[0m\u001b[0;34m)\u001b[0m\u001b[0;34m\u001b[0m\u001b[0m\n\u001b[1;32m     21\u001b[0m \u001b[0;34m\u001b[0m\u001b[0m\n",
      "\u001b[0;31merror\u001b[0m: OpenCV(4.1.0) /io/opencv/modules/highgui/src/window.cpp:352: error: (-215:Assertion failed) size.width>0 && size.height>0 in function 'imshow'\n"
     ]
    }
   ],
   "source": [
    "## Deep learning TensorFlow \n",
    "\n",
    "with tf.Session() as sess: \n",
    "    \n",
    "    vid_0720 = cv2.VideoCapture(\"/videodata/13B35A/0720_1030/30sec_sample_00014.mp4\")\n",
    "    \n",
    "    i = 0\n",
    "    #while True:\n",
    "    while i < 10:\n",
    "        curr_frame = vid_0720.read()[1]\n",
    "        curr_frame_num = vid_0720.get(1)\n",
    "        \n",
    "        i = i + 1\n",
    "        \n",
    "        # Write frame as image to file \n",
    "        cv2.imwrite(filename = \"imagedata/13B35A/0720_1030/img\" + str(i) + \".png\", img = curr_frame)\n",
    "        \n",
    "        # Show frame\n",
    "        cv2.imshow(\"image\", curr_frame)\n",
    "        cv2.waitKey(1)\n",
    "        \n",
    "    vid_0720.release()\n",
    "    cv2.destroyAllWindows()"
   ]
  },
  {
   "cell_type": "code",
   "execution_count": 37,
   "metadata": {},
   "outputs": [
    {
     "data": {
      "text/plain": [
       "False"
      ]
     },
     "execution_count": 37,
     "metadata": {},
     "output_type": "execute_result"
    }
   ],
   "source": [
    "vid_0720 = cv2.VideoCapture(\"/videodata/13B35A/0720_1030/30sec_sample_00014.mp4\")\n",
    "#vid_0720.open();\n",
    "vid_0720.isOpened()"
   ]
  },
  {
   "cell_type": "code",
   "execution_count": 6,
   "metadata": {},
   "outputs": [
    {
     "name": "stdout",
     "output_type": "stream",
     "text": [
      "Collecting OpenCV-ffmpeg\n",
      "\u001b[31m  Could not find a version that satisfies the requirement OpenCV-ffmpeg (from versions: )\u001b[0m\n",
      "\u001b[31mNo matching distribution found for OpenCV-ffmpeg\u001b[0m\n"
     ]
    }
   ],
   "source": [
    "! pip3 install OpenCV-ffmpeg"
   ]
  },
  {
   "cell_type": "code",
   "execution_count": null,
   "metadata": {
    "collapsed": true
   },
   "outputs": [],
   "source": []
  }
 ],
 "metadata": {
  "kernelspec": {
   "display_name": "Python 3",
   "language": "python",
   "name": "python3"
  },
  "language_info": {
   "codemirror_mode": {
    "name": "ipython",
    "version": 3
   },
   "file_extension": ".py",
   "mimetype": "text/x-python",
   "name": "python",
   "nbconvert_exporter": "python",
   "pygments_lexer": "ipython3",
   "version": "3.5.2"
  }
 },
 "nbformat": 4,
 "nbformat_minor": 2
}
